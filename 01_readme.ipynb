{
 "cells": [
  {
   "cell_type": "markdown",
   "id": "6f8fe53e-254d-47cb-be84-eff2c56c0a99",
   "metadata": {},
   "source": [
    "Reporter: Kornpob Bhirombhakdi (kbhirombhakdi@stsci.edu)\n",
    "\n",
    "# Contents:\n",
    "- Files (Proposal ID 15974)\n",
    "- Astrometry of AT2018COW on images taken on 20200529\n",
    "- Correlation between Halpha region and AT2018COW"
   ]
  },
  {
   "cell_type": "markdown",
   "id": "46b04fc4-637c-4924-9fd7-d16f823eabf4",
   "metadata": {},
   "source": [
    "# Files (Proposal ID 15974)\n",
    "- F336W: ie4502z6q, ie4502z8q, ie4502zaq\n",
    "- F225W: ie4502z5q, ie4502z7q, ie4502z9q\n",
    "- F665N: ie4501yyq, ie4501z0q, ie4501z2q\n",
    "- F657N: ie4501yzq, ie4501z1q, ie4501z3q\n",
    "- F555W: ie4503zcq, ie4503zfq, ie4503zjq\n",
    "- F814W: ie4503zdq, ie4503zhq, ie4503zlq\n",
    "\n",
    "These files were drizzled (see 02_drizzle.ipynb for code), and output drc files were kept in /ASSETS/DRC_FXXXX/. Both EXP and IVM were created for different 'final_wht_type'.\n",
    "\n",
    "For other images, we used F336W drc image as the 'final_refimage'."
   ]
  },
  {
   "cell_type": "markdown",
   "id": "20a65f35-69ce-4be3-882c-c94b83ea1310",
   "metadata": {},
   "source": [
    "# Astrometry of AT2018COW on images taken on 20200529\n",
    "\n",
    "- Apply F336W drc image as the 'final_refimage' during drizzle.\n",
    "\n",
    "- Use additional files from proposal ID 15600 in:\n",
    "  - F336W: idu301cnq, idu301crq\n",
    "  - F225W: idu301cpq, idu301ctq\n",
    "  \n",
    "  These were taken on 20180806, when the object is still bright. Drizzle this dataset using F336W drc image on 20200529 as the 'final_refimage'. The drc output files were kept in /ASSETS/DRC_FXXXX/ as well.\n",
    "\n",
    "- For F225W, we located AT2018COW by using image subtraction. See 03_astrometry.ipynb for code. Output files were kept in /ASSETS/SHIFT/ including:\n",
    "  - F225W_20180806_shifted_to_20200529_drc.fits = Best of F225W on 20180806 aligned to 20200529\n",
    "  - F225W_20180806_sub_drz.fits = subtraction of the best aligned images\n",
    "  - F225W_20180806_to_20200529.txt = a text file recording xy_shift value.\n",
    "  \n",
    "- From F225W_20180806_sub_drz.fits, we found the centroid of AT2018COW. The file /ASSETS/REGION/F225W_20180806_AT2018cow_xy.reg is the DS9 region file for initial xy pixel of the object. Output files include:\n",
    "  - /ASSETS/REGION/AT2018cow_F225W_20200529_refimage_20200529_xy.dat = record of the centroid\n",
    "  - /ASSETS/IMAGES/AT2018COW_F225W_20200529.pdf = figure of the centroid on F225W 20200529.\n",
    "  \n",
    "  We note that the centroid is on a center of a small bright region seen in F225W 20200529.\n",
    "  \n",
    "- For F336W, we performed similarly as did with F225W. Output files were produced similarly as well.\n",
    "\n",
    "- Besides F336W, for other filters (including F225W, F665N, F657N, F555W, F814W), we computed xy_shift between drc images by aligning multiple objects in the FoVs. See 03_astrometry.ipynb for code. Outputs include:\n",
    "  - /ASSETS/DRC_FXXXX/sources_FXXXX_20200529.csv = source catalogue\n",
    "  - /ASSETS/DRC_FXXXX/offset_FXXXX_20200529_to_F336W_20200529.txt = record of the xy_shift value, and metadata. Note that every filter excepts F336W has this file.\n",
    "  \n",
    "- For F225W, we performed a quality check between two different astrometric methods, i.e., locating AT2018COW through image subtraction, and aligning the FoVs. See 03_astrometry.ipynb for the code. The discrepancy between two methods is dx = -0.24 and dy = -0.04, implying good quality of astrometry through aligning FoVs as through image subtraction. Therefore, we can use the centroid found in F336W with the xy_shift from image alignment to locate AT2018COW in other filters."
   ]
  },
  {
   "cell_type": "markdown",
   "id": "a2451555-5164-4562-8de9-6091fa0fdb54",
   "metadata": {},
   "source": [
    "# Correlation between Halpha region and AT2018COW\n",
    "\n",
    "- We performed subtraction between F665N (as continuum + Halpha) and F657N (as continuum). First, we checked that both images are well aligned (i.e., dx = 0.09 and dy = -0.06; see 04_Halpha.ipynb for code). Then, we scaled F657N with a factor K to makes its equivalent to the continuum as if it was observed in F665N. K was computed by using the filter properties, and its formula is presented with the code in 04_Halpha.ipynb. Additionally, we also created images of errors (including Poisson noise and readnoise) and SNRs. Outputs were kept in /ASSETS/Halpha/ which includes:\n",
    "  - F665N_20200529_sub_F657N_ScaleFormula_drc.fits = subtracted image\n",
    "  - F665N_20200529_sub_F657N_ErrTotal_drc.fits = error image\n",
    "  - F665N_20200529_sub_F657N_SNRTotal_drc.fits = SNR image\n",
    "  - /ASSETS/IMAGES/AT2018COW_Halpha.pdf = a figure showing the subtracted image zoomed at the AT2018COW's location.\n",
    "  \n",
    "  Note that we see very faint (SNR < ~2-3) residuals left in the subtracted image at the object's location, implying the correlation between Halpha region and the object.\n",
    "  \n",
    "- We performed source detection and created a segmentation using a Gaussian filter with routine from astropy. See 04_Halpha.ipynb for the code. We chose the best case to be presented here as using nsigma = 2 (above sky). Outputs include:\n",
    "  - /ASSETS/Halpha/halpha_segmentation_nsigma2_drc.fits = segmentation image\n",
    "  - /ASSETS/IMAGES/Halpha_segmentation.pdf = figure zoomed at the object's location\n",
    "  \n",
    "  Note, AT2018COW located on a non-detection pixel, but the adjacent pixel (to its right) was a detection."
   ]
  },
  {
   "cell_type": "code",
   "execution_count": null,
   "id": "82abd134-1a4a-42a7-918f-b34c967b151a",
   "metadata": {},
   "outputs": [],
   "source": []
  }
 ],
 "metadata": {
  "kernelspec": {
   "display_name": "Python 3",
   "language": "python",
   "name": "python3"
  },
  "language_info": {
   "codemirror_mode": {
    "name": "ipython",
    "version": 3
   },
   "file_extension": ".py",
   "mimetype": "text/x-python",
   "name": "python",
   "nbconvert_exporter": "python",
   "pygments_lexer": "ipython3",
   "version": "3.7.10"
  }
 },
 "nbformat": 4,
 "nbformat_minor": 5
}
