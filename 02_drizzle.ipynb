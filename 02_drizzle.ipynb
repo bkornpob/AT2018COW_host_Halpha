{
 "cells": [
  {
   "cell_type": "code",
   "execution_count": null,
   "id": "1a5b4de7-0211-4b55-bded-8e2f0c172a7e",
   "metadata": {},
   "outputs": [],
   "source": [
    "from drizzlepac.astrodrizzle import AstroDrizzle as asdriz\n",
    "import os,glob"
   ]
  },
  {
   "cell_type": "code",
   "execution_count": null,
   "id": "1ec31779-579f-445f-9ed2-41261fd3bad8",
   "metadata": {},
   "outputs": [],
   "source": [
    "filtername = 'F336W'\n",
    "epoch = '20200529'\n",
    "rootnamelist = ['ie4502z6q',\n",
    "                'ie4502z8q',\n",
    "                'iea4502zaq',\n",
    "               ]\n",
    "filesuffix = 'flc.fits'\n",
    "filepath = '/Users/kbhirombhakdi/_work/_data/15974/MAST_2021-05-24T1044/HST/'\n",
    "outputdestination = '../ASSETS/DRC_{0}/'.format(filtername)\n",
    "filelist = []\n",
    "for i in rootnamelist:\n",
    "    t = filepath + '{0}/{0}_{1}'.format(i,filesuffix)\n",
    "    filelist.append(t)"
   ]
  },
  {
   "cell_type": "code",
   "execution_count": null,
   "id": "882991d8-0c09-4773-92e0-30c219501398",
   "metadata": {},
   "outputs": [],
   "source": [
    "# copy to local and update pointer\n",
    "t = glob.glob('*')\n",
    "if 'tmp' in t:\n",
    "    os.system('rm -R tmp')\n",
    "os.system('mkdir tmp')\n",
    "for ii,i in enumerate(filelist):\n",
    "    t = './tmp/{0}'.format(filelist[ii].split('/')[-1])\n",
    "    os.system('cp {0} {1}'.format(filelist[ii],t))\n",
    "    filelist[ii] = t\n",
    "filelist"
   ]
  },
  {
   "cell_type": "code",
   "execution_count": null,
   "id": "64d95804-09b8-4c68-a884-e04fc1ddfcab",
   "metadata": {},
   "outputs": [],
   "source": [
    "import subprocess\n",
    "os.environ['CRDS_SERVER_URL'] = 'https://hst-crds.stsci.edu'\n",
    "os.environ['CRDS_PATH'] = os.path.abspath(os.path.join('.', 'reference_files'))\n",
    "for i in filelist:\n",
    "    subprocess.check_output('crds bestrefs --files {0} --sync-references=1 --update-bestrefs'.format(i), shell=True, stderr=subprocess.DEVNULL)\n",
    "#####\n",
    "os.environ['iref'] = os.path.abspath(os.path.join('.', 'reference_files', 'references', 'hst', 'wfc3')) + os.path.sep\n",
    "!echo $iref"
   ]
  },
  {
   "cell_type": "code",
   "execution_count": null,
   "id": "a8b1fb66-a68d-43cb-b150-8ed39c78fecb",
   "metadata": {},
   "outputs": [],
   "source": [
    "params = {'build':True,\n",
    "          'restore':False,\n",
    "          'overwrite':False,\n",
    "          'clean':True,\n",
    "#           'resetbits':512+4096,\n",
    "          # Step 1 Statis Mask\n",
    "          'static':True,\n",
    "          # Step 2 Sky Sub\n",
    "          'skysub':True,\n",
    "#           'skymethod':'localmin',\n",
    "#           'skystat':'median',\n",
    "          # Step 3 Driz Sep\n",
    "          'driz_separate':True,\n",
    "#           'driz_sep_kernel':'turbo',\n",
    "          'driz_sep_pixfrac':1., # Set this high for CR\n",
    "          'driz_sep_scale':0.02, # Smaller than native size, better for CR\n",
    "          # Step 4 Median\n",
    "          'median':True,\n",
    "          'combine_type':'mean',\n",
    "          'combine_nhigh':1, # Reject highest values before computing median, good for CR\n",
    "          # Step 5 Blot\n",
    "#           'blot':True,\n",
    "#           'blot_interp':'poly5',\n",
    "#           'blot_addsky':True,\n",
    "          # Step 6 CR\n",
    "          'driz_cr':True,\n",
    "#           'driz_cr_corr':True,\n",
    "#           'driz_cr_ctegrow':0,\n",
    "          # Step 7 Final Combine\n",
    "          'driz_combine':True,\n",
    "          'final_rot':0.,\n",
    "          'final_wht_type':None,\n",
    "          'final_refimage':None,\n",
    "         }"
   ]
  },
  {
   "cell_type": "code",
   "execution_count": null,
   "id": "1b534367-bdeb-4122-803b-98a5ee459875",
   "metadata": {},
   "outputs": [],
   "source": [
    "drizzle_id = 'IVM'\n",
    "output_prefix = '{0}_{1}_{2}'.format(filtername,epoch,drizzle_id)\n",
    "##### Drizzle parameters\n",
    "params['final_wht_type'] = drizzle_id\n",
    "asdriz(filelist,output=output_prefix,**params)"
   ]
  },
  {
   "cell_type": "code",
   "execution_count": null,
   "id": "8ffe3244-c86a-4072-ab87-3d7b97a8b728",
   "metadata": {},
   "outputs": [],
   "source": [
    "# Move files to ASSETS\n",
    "t = ['{0}_{1}_IVM_drc.fits'.format(filtername,epoch),\n",
    "     '{0}_{1}_EXP_drc.fits'.format(filtername,epoch),\n",
    "    ]\n",
    "for i in t:\n",
    "    os.system('mv {0} {1}'.format(i,outputdestination))"
   ]
  },
  {
   "cell_type": "markdown",
   "id": "e5613621-d22b-4953-b17f-34c4afedea90",
   "metadata": {},
   "source": [
    "# For other exposures, we used F336W drc image as the 'final_refimage'."
   ]
  },
  {
   "cell_type": "code",
   "execution_count": null,
   "id": "76b669d2-c715-46a2-9a80-00dab1b52097",
   "metadata": {},
   "outputs": [],
   "source": [
    "final_refimage = '../ASSETS/DRC_F336W/F336W_20200529_IVM_drc.fits'\n",
    "reftxt = 'refimage20200529'\n",
    "drizzle_id = 'IVM'\n",
    "output_prefix = '{0}_{1}_{2}_{3}'.format(filtername,epoch,drizzle_id,reftxt)\n",
    "##### Drizzle parameters\n",
    "params['final_refimage'] = final_refimage\n",
    "params['final_wht_type'] = drizzle_id\n",
    "asdriz(filelist,output=output_prefix,**params)"
   ]
  },
  {
   "cell_type": "code",
   "execution_count": null,
   "id": "0db2a879-282e-4128-85d3-bb2da022451c",
   "metadata": {},
   "outputs": [],
   "source": [
    "final_refimage = '../ASSETS/DRC_F336W/F336W_20200529_IVM_drc.fits'\n",
    "reftxt = 'refimage20200529'\n",
    "drizzle_id = 'EXP'\n",
    "output_prefix = '{0}_{1}_{2}_{3}'.format(filtername,epoch,drizzle_id,reftxt)\n",
    "##### Drizzle parameters\n",
    "params['final_refimage'] = final_refimage\n",
    "params['final_wht_type'] = drizzle_id\n",
    "asdriz(filelist,output=output_prefix,**params)"
   ]
  }
 ],
 "metadata": {
  "kernelspec": {
   "display_name": "Python 3",
   "language": "python",
   "name": "python3"
  },
  "language_info": {
   "codemirror_mode": {
    "name": "ipython",
    "version": 3
   },
   "file_extension": ".py",
   "mimetype": "text/x-python",
   "name": "python",
   "nbconvert_exporter": "python",
   "pygments_lexer": "ipython3",
   "version": "3.7.10"
  }
 },
 "nbformat": 4,
 "nbformat_minor": 5
}
