{
 "cells": [
  {
   "cell_type": "markdown",
   "id": "a73cd4ac-5fd6-4862-8f7f-e60f378d8846",
   "metadata": {},
   "source": [
    "# 1. Shift and Subtract"
   ]
  },
  {
   "cell_type": "code",
   "execution_count": null,
   "id": "45f7d9af-9957-44da-b87f-94d204f7ec19",
   "metadata": {},
   "outputs": [],
   "source": [
    "from astropy.io import fits\n",
    "import matplotlib.pyplot as plt\n",
    "import numpy as np\n",
    "from scipy.ndimage import shift as ndimage_shift\n",
    "import os"
   ]
  },
  {
   "cell_type": "code",
   "execution_count": null,
   "id": "ee4a2461-bf2d-4985-a312-a6dd25f88314",
   "metadata": {},
   "outputs": [],
   "source": [
    "filtername = 'F225W'\n",
    "refepoch = '20200529'\n",
    "shiftepoch = '20180806'\n",
    "refimage = '../ASSETS/DRC_{0}/{0}_{1}_IVM_refimage20200529_drc.fits'.format(filtername,refepoch)\n",
    "shiftimage = '../ASSETS/DRC_{0}/{0}_{1}_IVM_refimage20200529_drc.fits'.format(filtername,shiftepoch)\n",
    "outputfolder = '../ASSETS/SHIFT/'\n",
    "shiftfile = '{0}_{1}_to_{2}.txt'.format(filtername,shiftepoch,refepoch)"
   ]
  },
  {
   "cell_type": "code",
   "execution_count": null,
   "id": "0c3ec95a-23ff-4d8c-a35b-1feda894698d",
   "metadata": {},
   "outputs": [],
   "source": [
    "t1 = fits.open(refimage)['SCI'].data\n",
    "m = np.isfinite(t1)\n",
    "vmin,vmax = np.percentile(t1[m],5.),np.percentile(t1[m],99.)\n",
    "plt.figure(figsize=(10,10))\n",
    "plt.imshow(t1,origin='lower',cmap='viridis',vmin=vmin,vmax=vmax),plt.show()\n",
    "#####\n",
    "t2 = fits.open(shiftimage)['SCI'].data\n",
    "plt.figure(figsize=(10,10))\n",
    "plt.imshow(t2,origin='lower',cmap='viridis',vmin=vmin,vmax=vmax),plt.show()\n",
    "#####\n",
    "t3 = t1-t2\n",
    "vmin,vmax = -0.01,0.01\n",
    "plt.figure(figsize=(10,10))\n",
    "plt.imshow(t3,origin='lower',cmap='viridis',vmin=vmin,vmax=vmax),plt.show()"
   ]
  },
  {
   "cell_type": "code",
   "execution_count": null,
   "id": "0bdb5601-8860-47e0-aa31-85ba49f0e6b3",
   "metadata": {},
   "outputs": [],
   "source": [
    "shift_xy = (3.8,-4.8)\n",
    "outpath = '{0}_{1}_shifted_to_{2}_drc.fits'.format(filtername,shiftepoch,refepoch)\n",
    "subpath = '{0}_{1}_sub_drz.fits'.format(filtername,shiftepoch)\n",
    "replacevalue = 0.\n",
    "order = 3\n",
    "mode = 'nearest'\n",
    "#####\n",
    "image = fits.open(shiftimage)['SCI'].data.copy()\n",
    "m = ~np.isfinite(image)\n",
    "image[m] = replacevalue\n",
    "shift_yx = (shift_xy[1],shift_xy[0])\n",
    "t1 = ndimage_shift(image,shift_yx,order=order,mode=mode)\n",
    "os.system('cp {0} {1}'.format(shiftimage,outpath))\n",
    "t2 = fits.open(outpath)\n",
    "t2['SCI'].data = t1.copy()\n",
    "t2.writeto(outpath,overwrite=True)\n",
    "#####\n",
    "os.system('cp {0} {1}'.format(shiftimage,subpath))\n",
    "t1 = fits.open(refimage)['SCI'].data.copy()\n",
    "t2 = fits.open(outpath)['SCI'].data.copy()\n",
    "t3 = t2 - t1\n",
    "t4 = fits.open(subpath)\n",
    "t4['SCI'].data = t3.copy()\n",
    "t4.writeto(subpath,overwrite=True)\n",
    "#####\n",
    "plt.figure(figsize=(10,10))\n",
    "t = fits.open(subpath)['SCI'].data.copy()\n",
    "plt.imshow(t,origin='lower',cmap='viridis',vmin=-0.01,vmax=0.01)"
   ]
  },
  {
   "cell_type": "code",
   "execution_count": null,
   "id": "97c522b2-0f64-476c-8492-6aef96839fdd",
   "metadata": {},
   "outputs": [],
   "source": [
    "##### output info\n",
    "t = outputfolder + shiftfile\n",
    "f = open(t,'w')\n",
    "#####\n",
    "t1 = []\n",
    "t1.append('{0}_{1}_to_{2}\\n'.format(filtername,shiftepoch,refepoch))\n",
    "t1.append('refimage {0}\\n'.format(refimage))\n",
    "t1.append('shiftimage {0}\\n'.format(shiftimage))\n",
    "t1.append('xy_shift = refimage - shiftimage\\n')\n",
    "t1.append('xshift {0}\\n'.format(shift_xy[0]))\n",
    "t1.append('yshift {0}\\n'.format(shift_xy[1]))\n",
    "for i in t1:\n",
    "    f.writelines(i)\n",
    "#####\n",
    "f.close()"
   ]
  },
  {
   "cell_type": "code",
   "execution_count": null,
   "id": "3589ac51-7e4b-425c-b097-abb1c249804b",
   "metadata": {},
   "outputs": [],
   "source": [
    "##### Move files\n",
    "os.system('mv {0} {1}'.format(outpath,outputfolder))\n",
    "os.system('mv {0} {1}'.format(subpath,outputfolder))"
   ]
  },
  {
   "cell_type": "markdown",
   "id": "b480287e-d65b-4a91-8744-68fd649415f7",
   "metadata": {},
   "source": [
    "# 2. Finding AT2018COW Centroid"
   ]
  },
  {
   "cell_type": "code",
   "execution_count": null,
   "id": "806b3b0f-378d-4f51-9776-c37bef49b377",
   "metadata": {},
   "outputs": [],
   "source": [
    "from astropy.io import fits\n",
    "import matplotlib.pyplot as plt\n",
    "import numpy as np\n",
    "from photutils.detection import IRAFStarFinder\n",
    "from photutils.psf import IntegratedGaussianPRF, DAOGroup\n",
    "from astropy.modeling.fitting import LevMarLSQFitter\n",
    "from astropy.stats import gaussian_fwhm_to_sigma\n",
    "from photutils.background import MMMBackground, MADStdBackgroundRMS\n",
    "from photutils.psf import IterativelySubtractedPSFPhotometry"
   ]
  },
  {
   "cell_type": "code",
   "execution_count": null,
   "id": "ab179ae2-566d-4ad1-bfce-a38eee2ebdc3",
   "metadata": {},
   "outputs": [],
   "source": [
    "filename = '../ASSETS/SHIFT/F225W_20180806_sub_drz.fits'\n",
    "regfile = '../ASSETS/REGION/F225W_20180806_AT2018cow_xy.reg'\n",
    "outputfile = '../ASSETS/REGION/AT2018cow_F225W_20200529_refimage_20200529_xy.dat'\n",
    "filename2 = '../ASSETS/DRC_F225W/F225W_20200529_IVM_refimage20200529_drc.fits'"
   ]
  },
  {
   "cell_type": "code",
   "execution_count": null,
   "id": "c0120ca4-13ab-4555-9ecb-d1deadaac593",
   "metadata": {},
   "outputs": [],
   "source": [
    "xy_centroid = None\n",
    "f = open(regfile,'r')\n",
    "for ii,i in enumerate(f.readlines()):\n",
    "    if ii==4:\n",
    "        t = i.split('(')[1]\n",
    "        t1,t2,t3 = t.split(',')\n",
    "        xy_centroid = (float(t1),float(t2))\n",
    "xy_centroid"
   ]
  },
  {
   "cell_type": "code",
   "execution_count": null,
   "id": "b9d99541-a737-4408-a9e9-0bcdbb62e089",
   "metadata": {},
   "outputs": [],
   "source": [
    "t = fits.open(filename)['SCI'].data\n",
    "plt.figure(figsize=(10,10))\n",
    "m = np.isfinite(t)\n",
    "vmin,vmax = np.percentile(t[m],5.),np.percentile(t[m],99.)\n",
    "plt.imshow(t,origin='lower',cmap='viridis',vmin=vmin,vmax=vmax)\n",
    "tx,ty = xy_centroid\n",
    "plt.scatter(tx,ty,s=100,edgecolor='red',facecolor='None')\n",
    "# dx,dy = 50,50\n",
    "# plt.xlim(tx-dx,tx+dx)\n",
    "# plt.ylim(ty-dy,ty+dy)"
   ]
  },
  {
   "cell_type": "code",
   "execution_count": null,
   "id": "6a93db99-0931-40ba-976e-6355ee6a71cd",
   "metadata": {},
   "outputs": [],
   "source": [
    "##### recentroid\n",
    "image = fits.open(filename)['SCI'].data.copy()\n",
    "bkgrms = MADStdBackgroundRMS()\n",
    "std = bkgrms(image)\n",
    "fwhm = 2. # fwhm = 1 pixel for F105W\n",
    "iraffind = IRAFStarFinder(threshold=10.*std,fwhm=fwhm,minsep_fwhm=0.01, roundhi=5.0, roundlo=-5.0,sharplo=0.0, sharphi=2.0)\n",
    "daogroup = DAOGroup(2.0*fwhm)\n",
    "mmm_bkg = MMMBackground()\n",
    "fitter = LevMarLSQFitter()\n",
    "psf_model = IntegratedGaussianPRF(sigma=fwhm*gaussian_fwhm_to_sigma)\n",
    "psf_model.sigma.fixed = False\n",
    "photometry = IterativelySubtractedPSFPhotometry(finder=iraffind,group_maker=daogroup,bkg_estimator=mmm_bkg,psf_model=psf_model,fitter=LevMarLSQFitter(),niters=1, fitshape=(11,11))\n",
    "result_tab = photometry(image=image)\n",
    "residual_image = photometry.get_residual_image()\n",
    "result_tab"
   ]
  },
  {
   "cell_type": "code",
   "execution_count": null,
   "id": "2efa19ff-ad89-4568-a764-6cc056ae8b4d",
   "metadata": {},
   "outputs": [],
   "source": [
    "objid = None\n",
    "tx = result_tab['x_fit'] - xy_centroid[0]\n",
    "ty = result_tab['y_fit'] - xy_centroid[1]\n",
    "tz = np.sqrt(np.power(tx,2) + np.power(ty,2))\n",
    "objid = np.argwhere(tz == tz.min()).flatten()\n",
    "#####\n",
    "t = fits.open(filename)['SCI'].data\n",
    "plt.figure(figsize=(10,10))\n",
    "m = np.isfinite(t)\n",
    "vmin,vmax = np.percentile(t[m],5.),np.percentile(t[m],99.)\n",
    "plt.imshow(t,origin='lower',cmap='viridis',vmin=vmin,vmax=vmax)\n",
    "t1 = result_tab[objid]\n",
    "tx,ty = t1['x_fit'],t1['y_fit']\n",
    "plt.scatter(tx,ty,s=100,edgecolor='red',facecolor='None')\n",
    "dx,dy = 50,50\n",
    "plt.xlim(tx-dx,tx+dx)\n",
    "plt.ylim(ty-dy,ty+dy)"
   ]
  },
  {
   "cell_type": "code",
   "execution_count": null,
   "id": "af5745b6-f504-435f-884a-628ed68fd69a",
   "metadata": {},
   "outputs": [],
   "source": [
    "from astropy.wcs import WCS\n",
    "t = WCS(fits.open(filename)['SCI'].header)\n",
    "t2 = t.pixel_to_world(tx,ty)\n",
    "tra,tdec = t2.ra.degree[0],t2.dec.degree[0]"
   ]
  },
  {
   "cell_type": "code",
   "execution_count": null,
   "id": "a4e5d850-561c-4c55-add3-39753daf4532",
   "metadata": {},
   "outputs": [],
   "source": [
    "f = open(outputfile,'w')\n",
    "t1 = result_tab[objid]\n",
    "tx,ty = t1['x_fit'],t1['y_fit']\n",
    "t = []\n",
    "t.append('objname AT2018cow\\n')\n",
    "t.append('filename {0}\\n'.format(filename))\n",
    "t.append('filename2 {0}\\n'.format(filename2))\n",
    "t.append('ra_degree {0}\\n'.format(tra))\n",
    "t.append('dec_degree {0}\\n'.format(tdec))\n",
    "t.append('x {0}\\n'.format(tx[0]))\n",
    "t.append('y {0}\\n'.format(ty[0]))\n",
    "t.append('# RADEC in ICRS, undistorted frame.\\n')\n",
    "t.append('# Pixel xy here is 0-index for python. (+1,+1) to DS9 image pixel. (+1,+2) to DS9 physical pixel.\\n')\n",
    "f.writelines(t)\n",
    "f.close()"
   ]
  },
  {
   "cell_type": "code",
   "execution_count": null,
   "id": "adef1584-48ac-4ee8-9d93-6a033e8150d0",
   "metadata": {},
   "outputs": [],
   "source": [
    "t = fits.open(filename2)['SCI'].data\n",
    "plt.figure(figsize=(10,10))\n",
    "m = np.isfinite(t)\n",
    "vmin,vmax = np.percentile(t[m],5.),np.percentile(t[m],99.)\n",
    "plt.imshow(t,origin='lower',cmap='viridis',vmin=vmin,vmax=vmax)\n",
    "plt.scatter(tx,ty,s=100,edgecolor='red',facecolor='None')\n",
    "dx,dy = 50,50\n",
    "plt.xlim(tx-dx,tx+dx)\n",
    "plt.ylim(ty-dy,ty+dy)"
   ]
  },
  {
   "cell_type": "markdown",
   "id": "ebde256c-2ae9-4a39-8143-b1745ab75ea0",
   "metadata": {},
   "source": [
    "# 3. Aligning Images Using Objects in the FoVs"
   ]
  },
  {
   "cell_type": "code",
   "execution_count": null,
   "id": "a2799a08-44af-4069-822f-eb039a55c907",
   "metadata": {},
   "outputs": [],
   "source": [
    "from astropy.io import fits\n",
    "import matplotlib.pyplot as plt\n",
    "import numpy as np\n",
    "from photutils.detection import IRAFStarFinder\n",
    "from photutils.psf import IntegratedGaussianPRF, DAOGroup\n",
    "from astropy.modeling.fitting import LevMarLSQFitter\n",
    "from astropy.stats import gaussian_fwhm_to_sigma\n",
    "from photutils.background import MMMBackground, MADStdBackgroundRMS\n",
    "from photutils.psf import IterativelySubtractedPSFPhotometry\n",
    "import pandas as pd"
   ]
  },
  {
   "cell_type": "code",
   "execution_count": null,
   "id": "4a4a5dcc-bd9a-4db0-9dfb-deb4f283dc8d",
   "metadata": {},
   "outputs": [],
   "source": [
    "filelist = ['../ASSETS/DRC_F336W/F336W_20200529_IVM_drc.fits',\n",
    "            '../ASSETS/DRC_F225W/F225W_20200529_IVM_refimage20200529_drc.fits',\n",
    "           ]\n",
    "outfile0 = '../ASSETS/DRC_F336W/sources_F336W_20200529.csv'\n",
    "outfile1 = '../ASSETS/DRC_F225W/sources_F225W_20200529.csv'\n",
    "outfile = '../ASSETS/DRC_F225W/offset_F225W_20200529_to_F336W_20200529.txt'"
   ]
  },
  {
   "cell_type": "code",
   "execution_count": null,
   "id": "99e81bfb-84b1-477f-ad37-1bbd8f3f4c35",
   "metadata": {},
   "outputs": [],
   "source": [
    "n_thres = 10.\n",
    "##### recentroid\n",
    "image = fits.open(filelist[0])['SCI'].data.copy()\n",
    "bkgrms = MADStdBackgroundRMS()\n",
    "std = bkgrms(image)\n",
    "fwhm = 2. # fwhm = 1 pixel for F105W\n",
    "iraffind = IRAFStarFinder(threshold=n_thres*std,fwhm=fwhm,minsep_fwhm=0.01, roundhi=5.0, roundlo=-5.0,sharplo=0.0, sharphi=2.0)\n",
    "daogroup = DAOGroup(2.0*fwhm)\n",
    "mmm_bkg = MMMBackground()\n",
    "fitter = LevMarLSQFitter()\n",
    "psf_model = IntegratedGaussianPRF(sigma=fwhm*gaussian_fwhm_to_sigma)\n",
    "psf_model.sigma.fixed = False\n",
    "photometry = IterativelySubtractedPSFPhotometry(finder=iraffind,group_maker=daogroup,bkg_estimator=mmm_bkg,psf_model=psf_model,fitter=LevMarLSQFitter(),niters=1, fitshape=(11,11))\n",
    "result_tab = photometry(image=image)\n",
    "residual_image = photometry.get_residual_image()\n",
    "# result_tab\n",
    "#####\n",
    "tx,ty = result_tab['x_fit'],result_tab['y_fit']\n",
    "m = np.isfinite(image)\n",
    "vmin,vmax = np.percentile(image[m],5.),np.percentile(image[m],99.)\n",
    "plt.figure(figsize=(10,10))\n",
    "plt.imshow(image,origin='lower',cmap='viridis',vmin=vmin,vmax=vmax)\n",
    "plt.plot(tx,ty,'x',color='red')\n",
    "##### to csv\n",
    "t = result_tab.to_pandas()\n",
    "t.to_csv(outfile0)"
   ]
  },
  {
   "cell_type": "code",
   "execution_count": null,
   "id": "dadd24e1-821a-4947-b097-88fc540aa06c",
   "metadata": {},
   "outputs": [],
   "source": [
    "n_thres = 10.\n",
    "##### recentroid\n",
    "image = fits.open(filelist[1])['SCI'].data.copy()\n",
    "bkgrms = MADStdBackgroundRMS()\n",
    "std = bkgrms(image)\n",
    "fwhm = 2. # fwhm = 1 pixel for F105W\n",
    "iraffind = IRAFStarFinder(threshold=n_thres*std,fwhm=fwhm,minsep_fwhm=0.01, roundhi=5.0, roundlo=-5.0,sharplo=0.0, sharphi=2.0)\n",
    "daogroup = DAOGroup(2.0*fwhm)\n",
    "mmm_bkg = MMMBackground()\n",
    "fitter = LevMarLSQFitter()\n",
    "psf_model = IntegratedGaussianPRF(sigma=fwhm*gaussian_fwhm_to_sigma)\n",
    "psf_model.sigma.fixed = False\n",
    "photometry = IterativelySubtractedPSFPhotometry(finder=iraffind,group_maker=daogroup,bkg_estimator=mmm_bkg,psf_model=psf_model,fitter=LevMarLSQFitter(),niters=1, fitshape=(11,11))\n",
    "result_tab = photometry(image=image)\n",
    "residual_image = photometry.get_residual_image()\n",
    "# result_tab\n",
    "#####\n",
    "tx,ty = result_tab['x_fit'],result_tab['y_fit']\n",
    "m = np.isfinite(image)\n",
    "vmin,vmax = np.percentile(image[m],5.),np.percentile(image[m],99.)\n",
    "plt.figure(figsize=(10,10))\n",
    "plt.imshow(image,origin='lower',cmap='viridis',vmin=vmin,vmax=vmax)\n",
    "plt.plot(tx,ty,'x',color='red')\n",
    "##### to csv\n",
    "t = result_tab.to_pandas()\n",
    "t.to_csv(outfile1)"
   ]
  },
  {
   "cell_type": "code",
   "execution_count": null,
   "id": "2bc9bdca-6f57-4706-b4e3-83ae553fba45",
   "metadata": {},
   "outputs": [],
   "source": [
    "image = fits.open(filelist[1])['SCI'].data\n",
    "plt.figure(figsize=(20,20))\n",
    "plt.imshow(image,origin='lower',cmap='viridis',vmin=vmin,vmax=vmax)\n",
    "#####\n",
    "result_tab = pd.read_csv(outfile1)\n",
    "tx,ty = result_tab['x_fit'],result_tab['y_fit']\n",
    "plt.plot(tx,ty,'o',color='black',alpha=0.6)\n",
    "#####\n",
    "result_tab = pd.read_csv(outfile0)\n",
    "tx,ty = result_tab['x_fit'],result_tab['y_fit']\n",
    "plt.plot(tx,ty,'x',color='red',alpha=1.,markersize=10)"
   ]
  },
  {
   "cell_type": "code",
   "execution_count": null,
   "id": "1785a2d1-3845-4150-bc7e-750b690aeff3",
   "metadata": {},
   "outputs": [],
   "source": [
    "result_tab = pd.read_csv(outfile0)\n",
    "result_tab2 = pd.read_csv(outfile1)\n",
    "tx,ty = result_tab['x_fit'].values,result_tab['y_fit'].values\n",
    "tx2,ty2 = result_tab2['x_fit'].values,result_tab2['y_fit'].values\n",
    "match_index = []\n",
    "distance = []\n",
    "for ii,i in enumerate(tx):\n",
    "    dx,dy = tx2-tx[ii],ty2-ty[ii]\n",
    "    dd = np.sqrt(np.power(dx,2) + np.power(dy,2))\n",
    "    m = np.argwhere(dd == dd.min()).flatten()\n",
    "    match_index.append(m[0])\n",
    "    distance.append(dd.min())"
   ]
  },
  {
   "cell_type": "code",
   "execution_count": null,
   "id": "4c132a8d-699f-42f3-8deb-c15a94b8097c",
   "metadata": {},
   "outputs": [],
   "source": [
    "##### use cutoff to filter sources\n",
    "index_keep = []\n",
    "im1xlist,im1ylist = [],[]\n",
    "im2xlist,im2ylist = [],[]\n",
    "dxlist,dylist,ddlist = [],[],[]\n",
    "distance_mean = np.mean(distance)\n",
    "distance_std = np.std(distance)\n",
    "##### define cutoff\n",
    "# n = 0.\n",
    "# cutoff = distance_mean - n*distance_std\n",
    "cutoff = 1.\n",
    "#####\n",
    "image = fits.open(filelist[1])['SCI'].data\n",
    "result_tab = pd.read_csv(outfile0)\n",
    "result_tab2 = pd.read_csv(outfile1)\n",
    "tx,ty = result_tab['x_fit'],result_tab['y_fit']\n",
    "tx2,ty2 = result_tab2['x_fit'],result_tab2['y_fit']\n",
    "##### plot images with sources\n",
    "plt.figure(figsize=(10,10))\n",
    "plt.imshow(image,origin='lower',cmap='viridis',vmin=vmin,vmax=vmax)\n",
    "for ii,i in enumerate(tx):\n",
    "    if distance[ii]>cutoff:\n",
    "        continue\n",
    "    plt.plot(tx[ii],ty[ii],'ro')\n",
    "    plt.plot(tx2[match_index[ii]],ty2[match_index[ii]],'rs',lw=4)\n",
    "    plt.plot([tx[ii],tx2[match_index[ii]]],[ty[ii],ty2[match_index[ii]]],'r-',lw=4)\n",
    "    index_keep.append((ii,match_index[ii]))\n",
    "plt.show()\n",
    "##### plot distribution\n",
    "i1list = []\n",
    "i2list = []\n",
    "for ii,i in enumerate(index_keep):\n",
    "    i1,i2 = i\n",
    "    dx = tx[i1] - tx2[i2]\n",
    "    dy = ty[i1] - ty2[i2]\n",
    "    dd = np.sqrt(np.power(dx,2)+np.power(dy,2))\n",
    "    i1list.append(i1)\n",
    "    i2list.append(i2)\n",
    "    dxlist.append(dx)\n",
    "    dylist.append(dy)\n",
    "    ddlist.append(dd)\n",
    "    im1xlist.append(tx[i1])\n",
    "    im1ylist.append(ty[i1])\n",
    "    im2xlist.append(tx2[i2])\n",
    "    im2ylist.append(ty2[i2])\n",
    "plt.plot(tx2[i2list],dxlist,'x'),plt.xlabel('pix x'),plt.ylabel('dx'),plt.show()\n",
    "plt.plot(ty2[i2list],dxlist,'x'),plt.xlabel('pix y'),plt.ylabel('dx'),plt.show()\n",
    "plt.plot(tx2[i2list],dylist,'x'),plt.xlabel('pix x'),plt.ylabel('dy'),plt.show()\n",
    "plt.plot(ty2[i2list],dylist,'x'),plt.xlabel('pix y'),plt.ylabel('dy'),plt.show()\n",
    "plt.plot(tx2[i2list],ddlist,'x'),plt.xlabel('pix x'),plt.ylabel('shift distance'),plt.show()\n",
    "plt.plot(ty2[i2list],ddlist,'x'),plt.xlabel('pix y'),plt.ylabel('shift distance'),plt.show()\n",
    "##### print summary stats\n",
    "print('cutoff distance = {0}'.format(cutoff))\n",
    "print('dx mean,std = {0},{1}'.format(np.mean(dxlist),np.std(dxlist)))\n",
    "print('dy mean,std = {0},{1}'.format(np.mean(dylist),np.std(dylist)))\n",
    "print('shift distance mean,std = {0},{1}'.format(np.mean(ddlist),np.std(ddlist)))"
   ]
  },
  {
   "cell_type": "code",
   "execution_count": null,
   "id": "691b644a-33e8-4819-a485-13cff54ed9f0",
   "metadata": {},
   "outputs": [],
   "source": [
    "for ii,i in enumerate(dxlist):\n",
    "    print(ii,dxlist[ii],dylist[ii],ddlist[ii])"
   ]
  },
  {
   "cell_type": "code",
   "execution_count": null,
   "id": "a9a3d266-61e0-4fcd-972d-0ccba057158d",
   "metadata": {},
   "outputs": [],
   "source": [
    "##### output file\n",
    "t = []\n",
    "t.append('image1 {0}\\n'.format(filelist[0]))\n",
    "t.append('image2 {0}\\n'.format(filelist[1]))\n",
    "t.append('offset = image1 - image2\\n')\n",
    "t.append('dx_mean {0}\\n'.format(np.mean(dxlist)))\n",
    "t.append('dx_std {0}\\n'.format(np.std(dxlist)))\n",
    "t.append('dy_mean {0}\\n'.format(np.mean(dylist)))\n",
    "t.append('dy_std {0}\\n'.format(np.std(dylist)))\n",
    "t.append('shift_distance_mean {0}\\n'.format(np.mean(ddlist)))\n",
    "t.append('shift_distance_std {0}\\n'.format(np.std(ddlist)))\n",
    "t.append('# objid,im1_x,im1_y,im2_x,im2_y,dx,dy,shift_distance\\n')\n",
    "for ii,i in enumerate(im1xlist):\n",
    "    t0 = ii\n",
    "    t1,t2 = im1xlist[ii],im1ylist[ii]\n",
    "    t3,t4 = im2xlist[ii],im2ylist[ii]\n",
    "    t5,t6,t7 = dxlist[ii],dylist[ii],ddlist[ii]\n",
    "    t.append('# {0},{1},{2},{3},{4},{5},{6},{7}\\n'.format(t0,t1,t2,t3,t4,t5,t6,t7))\n",
    "#####\n",
    "f = open(outfile,'w')\n",
    "f.writelines(t)\n",
    "f.close()"
   ]
  },
  {
   "cell_type": "markdown",
   "id": "ad16ec95-3a17-4722-bebf-b9d2e6a9236a",
   "metadata": {},
   "source": [
    "# 4. Quality Check"
   ]
  },
  {
   "cell_type": "code",
   "execution_count": null,
   "id": "b0346972-368a-4814-ba70-c96abf9764cf",
   "metadata": {},
   "outputs": [],
   "source": [
    "t = '../ASSETS/REGION/AT2018cow_F336W_20200529_refimage_20200529_xy.dat'\n",
    "posx,posy = None,None\n",
    "f = open(t,'r')\n",
    "for ii,i in enumerate(f.readlines()):\n",
    "    if i.split(' ')[0] == 'x':\n",
    "        posx = float(i.split(' ')[1])\n",
    "    if i.split(' ')[0] == 'y':\n",
    "        posy = float(i.split(' ')[1])\n",
    "f.close()\n",
    "posx,posy"
   ]
  },
  {
   "cell_type": "code",
   "execution_count": null,
   "id": "b84c485d-7ebd-43a5-906f-715ae8c2babd",
   "metadata": {},
   "outputs": [],
   "source": [
    "posx2,posy2 = posx-np.mean(dxlist),posy-np.mean(dylist)\n",
    "posx2,posy2"
   ]
  },
  {
   "cell_type": "code",
   "execution_count": null,
   "id": "d46d3611-4194-410f-81e2-e065704afd4d",
   "metadata": {},
   "outputs": [],
   "source": [
    "t = '../ASSETS/REGION/AT2018cow_F225W_20200529_refimage_20200529_xy.dat'\n",
    "tx,ty = None,None\n",
    "f = open(t,'r')\n",
    "for ii,i in enumerate(f.readlines()):\n",
    "    if i.split(' ')[0] == 'x':\n",
    "        tx = float(i.split(' ')[1])\n",
    "    if i.split(' ')[0] == 'y':\n",
    "        ty = float(i.split(' ')[1])\n",
    "f.close()\n",
    "tx,ty"
   ]
  },
  {
   "cell_type": "code",
   "execution_count": null,
   "id": "7ccd9186-2ab5-46e0-896e-b4558142d2c2",
   "metadata": {},
   "outputs": [],
   "source": [
    "print('discrepancy between two methods: dx = {0}, dy = {1}'.format(tx-posx2,ty-posy2))"
   ]
  },
  {
   "cell_type": "code",
   "execution_count": null,
   "id": "771961da-1806-4b47-80ad-407b5ea23c37",
   "metadata": {},
   "outputs": [],
   "source": []
  },
  {
   "cell_type": "code",
   "execution_count": null,
   "id": "6895ae4a-a668-427e-99e5-5d871afffde1",
   "metadata": {},
   "outputs": [],
   "source": []
  },
  {
   "cell_type": "code",
   "execution_count": null,
   "id": "592952da-de09-44f0-9885-77aa9427994b",
   "metadata": {},
   "outputs": [],
   "source": []
  },
  {
   "cell_type": "code",
   "execution_count": null,
   "id": "932bb68d-5d8d-4a23-b66f-8b65e2813d0b",
   "metadata": {},
   "outputs": [],
   "source": []
  },
  {
   "cell_type": "code",
   "execution_count": null,
   "id": "28f7225f-5d88-42cd-8d7f-bbe5575aca0e",
   "metadata": {},
   "outputs": [],
   "source": []
  }
 ],
 "metadata": {
  "kernelspec": {
   "display_name": "Python 3",
   "language": "python",
   "name": "python3"
  },
  "language_info": {
   "codemirror_mode": {
    "name": "ipython",
    "version": 3
   },
   "file_extension": ".py",
   "mimetype": "text/x-python",
   "name": "python",
   "nbconvert_exporter": "python",
   "pygments_lexer": "ipython3",
   "version": "3.7.10"
  }
 },
 "nbformat": 4,
 "nbformat_minor": 5
}
