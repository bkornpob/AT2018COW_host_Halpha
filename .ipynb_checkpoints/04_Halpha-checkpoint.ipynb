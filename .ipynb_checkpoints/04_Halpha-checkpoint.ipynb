{
 "cells": [
  {
   "cell_type": "markdown",
   "id": "2a6cd3df-e40b-4290-9a6b-d01708e7e965",
   "metadata": {},
   "source": [
    "# Scale with formula\n",
    "\n",
    "We want to make F657N image to its equivalent F665N image at count rates. If we can do this, we can perform image_F665N - image_F657N_transformed_to_F665N.\n",
    "\n",
    "Since,\n",
    "$$\n",
    "flam = 10^{-0.4*(mag + 2.406 + 4*log_{10}(ABwave))}\n",
    "$$\n",
    "\n",
    "$$\n",
    "mag = -2.5*log_{10}(countRate) + ZP\n",
    "$$\n",
    "\n",
    "By assuming constant flam in two bandpasses,\n",
    "$$\n",
    "scale = \\frac{countRate_{F1}}{countRate_{F2}} = 10^K\n",
    "$$\n",
    "\n",
    "$$\n",
    "K = 0.4*((ZP_{F1} - ZP_{F2}) + 4*log_{10}(\\frac{ABwave_{F1}}{ABwave_{F2}}))\n",
    "$$"
   ]
  },
  {
   "cell_type": "code",
   "execution_count": null,
   "id": "92aef6e2-7ff5-464b-84e4-9b757929f5fc",
   "metadata": {},
   "outputs": [],
   "source": [
    "import numpy as np\n",
    "import matplotlib.pyplot as plt\n",
    "from astropy.io import fits\n",
    "import glob,os,copy\n",
    "from astropy.wcs import WCS\n",
    "from photutils.aperture import CircularAperture\n",
    "from photutils.aperture import aperture_photometry\n",
    "import pysynphot as S"
   ]
  },
  {
   "cell_type": "code",
   "execution_count": null,
   "id": "af3f3dec-773f-4f1d-8b0c-84fd01358b0c",
   "metadata": {},
   "outputs": [],
   "source": [
    "filename1 = ['../ASSETS/DRC_F665N/F665N_20200529_IVM_refimage20200529_drc.fits',\n",
    "             '../ASSETS/REGION/AT2018cow_F665N_20200529_from_offset_xy.dat',\n",
    "             'F665N',\n",
    "             'wfc3,uvis2,f665n',\n",
    "             (6656.,131.,22.721),\n",
    "            ]\n",
    "filename2 = ['../ASSETS/DRC_F657N/F657N_20200529_IVM_refimage20200529_drc.fits',\n",
    "             '../ASSETS/REGION/AT2018cow_F657N_20200529_from_offset_xy.dat',\n",
    "             'F657N',\n",
    "             'wfc3,uvis2,f657n',\n",
    "             (6567.,121.,22.658),\n",
    "            ]\n",
    "halpha_rest = 6562.8\n",
    "zshift = 0.014\n",
    "halpha_obs = halpha_rest * (1. + zshift)\n",
    "epoch = '20200529'\n",
    "regionfile = '../ASSETS/REGION/S01_F665N_20200529_radec.reg'\n",
    "outnameprefix = '{0}_{1}_sub_{2}'.format(filename1[2],epoch,filename2[2])\n",
    "outputdestination = '../ASSETS/Halpha/'"
   ]
  },
  {
   "cell_type": "code",
   "execution_count": null,
   "id": "c31a8444-45c9-41fb-a433-c1a9532afc30",
   "metadata": {},
   "outputs": [],
   "source": [
    "posxy1,posxy2 = [],[]\n",
    "#####\n",
    "f = open(filename1[1],'r')\n",
    "for ii,i in enumerate(f.readlines()):\n",
    "    if i.split(' ')[0]=='x':\n",
    "        tx = float(i.split(' ')[1])\n",
    "    if i.split(' ')[0]=='y':\n",
    "        ty = float(i.split(' ')[1])\n",
    "posxy1.append(tx),posxy1.append(ty)\n",
    "f.close()\n",
    "#####\n",
    "f = open(filename2[1],'r')\n",
    "for ii,i in enumerate(f.readlines()):\n",
    "    if i.split(' ')[0]=='x':\n",
    "        tx = float(i.split(' ')[1])\n",
    "    if i.split(' ')[0]=='y':\n",
    "        ty = float(i.split(' ')[1])\n",
    "posxy2.append(tx),posxy2.append(ty)\n",
    "f.close()\n",
    "#####\n",
    "posxy1,posxy2 = np.array(posxy1),np.array(posxy2)\n",
    "posxy1,posxy2"
   ]
  },
  {
   "cell_type": "code",
   "execution_count": null,
   "id": "806d9144-729e-4f45-98b0-6f2af21fe81c",
   "metadata": {},
   "outputs": [],
   "source": [
    "##### prepare tmp\n",
    "t = glob.glob('*')\n",
    "if 'tmp' in t:\n",
    "    os.system('rm -R tmp')\n",
    "os.system('mkdir tmp')"
   ]
  },
  {
   "cell_type": "code",
   "execution_count": null,
   "id": "7bc1e250-1a5e-49c3-88d2-be8ed7bf5cb5",
   "metadata": {},
   "outputs": [],
   "source": [
    "print(posxy1-posxy2)\n",
    "print('Implying that two images are aligned.')"
   ]
  },
  {
   "cell_type": "code",
   "execution_count": null,
   "id": "71cf3e91-e3fc-4eb0-bb45-7af157cbb4fb",
   "metadata": {},
   "outputs": [],
   "source": [
    "##### F1 = F665N, F2 = F657N\n",
    "abwave1,_,zp1 = filename1[4]\n",
    "abwave2,_,zp2 = filename2[4]\n",
    "K = 0.4 * ((zp1-zp2) + 4.*np.log10(abwave1/abwave2))\n",
    "scale = np.power(10,K)\n",
    "scale"
   ]
  },
  {
   "cell_type": "code",
   "execution_count": null,
   "id": "92270852-532a-4e9d-ad7f-b54fe041e364",
   "metadata": {},
   "outputs": [],
   "source": [
    "filenamesub = './tmp/{0}_ScaleFormula_drc.fits'.format(outnameprefix)\n",
    "os.system('cp {0} {1}'.format(filename1[0],filenamesub))\n",
    "#####\n",
    "t1 = fits.open(filename1[0])['SCI'].data\n",
    "t2 = fits.open(filename2[0])['SCI'].data * scale\n",
    "t3 = fits.open(filenamesub)\n",
    "tx,ty = posxy1\n",
    "dx,dy = 100,100\n",
    "alpha = 0.9\n",
    "ms = 10\n",
    "#####\n",
    "t = t1-t2\n",
    "t3['SCI'].data = t\n",
    "t3.writeto(filenamesub,overwrite=True)\n",
    "#####\n",
    "plt.figure(figsize=(10,10))\n",
    "plt.imshow(t,origin='lower',cmap='viridis',vmin=-0.05,vmax=0.05)\n",
    "plt.plot(tx,ty,'rx',alpha=alpha,ms=ms)\n",
    "# plt.xlim(tx-dx,tx+dx),plt.ylim(ty-dy,ty+dy)\n",
    "plt.title('{0} - {1}'.format(filename1[2],filename2[2]))\n",
    "plt.show()\n",
    "#####\n",
    "plt.figure(figsize=(10,10))\n",
    "plt.imshow(t,origin='lower',cmap='viridis',vmin=-0.05,vmax=0.05)\n",
    "plt.scatter(tx,ty,s=500,facecolor='None',edgecolor='red',alpha=alpha)\n",
    "plt.xlim(tx-dx,tx+dx),plt.ylim(ty-dy,ty+dy)\n",
    "plt.title('{0} - {1}'.format(filename1[2],filename2[2]))\n",
    "plt.show()\n",
    "#####\n",
    "m = np.isfinite(t1)\n",
    "vmin,vmax = np.percentile(t1[m],5.),np.percentile(t1[m],99.)\n",
    "plt.figure(figsize=(10,10))\n",
    "plt.imshow(t1,origin='lower',cmap='viridis',vmin=vmin,vmax=vmax)\n",
    "plt.plot(tx,ty,'rx',alpha=alpha,ms=ms)\n",
    "plt.xlim(tx-dx,tx+dx),plt.ylim(ty-dy,ty+dy)\n",
    "plt.title(filename1[0])\n",
    "plt.show()\n",
    "#####\n",
    "plt.figure(figsize=(10,10))\n",
    "plt.imshow(t2,origin='lower',cmap='viridis',vmin=vmin,vmax=vmax)\n",
    "plt.plot(tx,ty,'rx',alpha=alpha,ms=ms)\n",
    "plt.xlim(tx-dx,tx+dx),plt.ylim(ty-dy,ty+dy)\n",
    "plt.title(filename2[0])\n",
    "plt.show()"
   ]
  },
  {
   "cell_type": "markdown",
   "id": "4ed253b3-819c-4401-bfc9-a2039cccca95",
   "metadata": {},
   "source": [
    "# Error and SNR Images"
   ]
  },
  {
   "cell_type": "code",
   "execution_count": null,
   "id": "22e3c41e-97b6-4e97-9baf-d8a3388487de",
   "metadata": {},
   "outputs": [],
   "source": [
    "rn1 = fits.open(filename1[0])[0].header['READNSEC']\n",
    "rn2 = fits.open(filename2[0])[0].header['READNSEC']\n",
    "rn1,rn2"
   ]
  },
  {
   "cell_type": "code",
   "execution_count": null,
   "id": "68afecb7-3800-4253-a774-0ae31cfa0dcf",
   "metadata": {},
   "outputs": [],
   "source": [
    "expt1 = fits.open(filename1[0])[0].header['EXPTIME']\n",
    "expt2 = fits.open(filename2[0])[0].header['EXPTIME']\n",
    "expt1,expt2"
   ]
  },
  {
   "cell_type": "code",
   "execution_count": null,
   "id": "1c00b71c-5c61-4be0-bddc-67f6930ab756",
   "metadata": {},
   "outputs": [],
   "source": [
    "scale = 1.0828145309286876\n",
    "var1 = fits.open(filename1[0])['SCI'].data * expt1 + np.power(rn1,2)\n",
    "var2 = fits.open(filename2[0])['SCI'].data * expt2 + np.power(rn2,2)\n",
    "var_tot = var1 + var2 * np.power(scale,2)\n",
    "err_tot = np.sqrt(var_tot)"
   ]
  },
  {
   "cell_type": "code",
   "execution_count": null,
   "id": "7bab206c-216f-41ac-a4ed-4421d36f9f32",
   "metadata": {},
   "outputs": [],
   "source": [
    "filenamesub = './tmp/{0}_ErrTotal_drc.fits'.format(outnameprefix)\n",
    "os.system('cp {0} {1}'.format(filename1[0],filenamesub))\n",
    "#####\n",
    "t3 = fits.open(filenamesub)\n",
    "t3['SCI'].data = err_tot\n",
    "t3.writeto(filenamesub,overwrite=True)"
   ]
  },
  {
   "cell_type": "code",
   "execution_count": null,
   "id": "70df4ddd-e6ea-4e18-a3f9-188f79b3cb0f",
   "metadata": {},
   "outputs": [],
   "source": [
    "filenamesub = './tmp/{0}_SNRTotal_drc.fits'.format(outnameprefix)\n",
    "os.system('cp {0} {1}'.format(filename1[0],filenamesub))\n",
    "#####\n",
    "t1 = fits.open(filename1[0])['SCI'].data\n",
    "t2 = fits.open(filename2[0])['SCI'].data * scale\n",
    "t3 = fits.open(filenamesub)\n",
    "#####\n",
    "t = t1-t2\n",
    "t3['SCI'].data = (t * expt1) / err_tot\n",
    "t3.writeto(filenamesub,overwrite=True)"
   ]
  },
  {
   "cell_type": "code",
   "execution_count": null,
   "id": "b43e8c01-f4ef-4406-ae3f-2f28b90403db",
   "metadata": {},
   "outputs": [],
   "source": [
    "t = glob.glob('./tmp/*')\n",
    "for i in t:\n",
    "    os.system('mv {0} {1}'.format(i,outputdestination))"
   ]
  }
 ],
 "metadata": {
  "kernelspec": {
   "display_name": "Python 3",
   "language": "python",
   "name": "python3"
  },
  "language_info": {
   "codemirror_mode": {
    "name": "ipython",
    "version": 3
   },
   "file_extension": ".py",
   "mimetype": "text/x-python",
   "name": "python",
   "nbconvert_exporter": "python",
   "pygments_lexer": "ipython3",
   "version": "3.7.10"
  }
 },
 "nbformat": 4,
 "nbformat_minor": 5
}
